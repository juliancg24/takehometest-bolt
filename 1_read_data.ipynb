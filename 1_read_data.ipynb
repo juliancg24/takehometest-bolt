{
 "cells": [
  {
   "cell_type": "code",
   "execution_count": 2,
   "metadata": {
    "collapsed": true,
    "ExecuteTime": {
     "end_time": "2023-05-20T21:22:40.314555800Z",
     "start_time": "2023-05-20T21:22:38.149082200Z"
    }
   },
   "outputs": [],
   "source": [
    "import pandas as pd\n",
    "import numpy as np"
   ]
  },
  {
   "cell_type": "code",
   "execution_count": 3,
   "outputs": [],
   "source": [
    "df = pd.read_csv (\"Test.csv\")"
   ],
   "metadata": {
    "collapsed": false,
    "ExecuteTime": {
     "end_time": "2023-05-20T21:26:30.958581Z",
     "start_time": "2023-05-20T21:26:30.880477Z"
    }
   }
  },
  {
   "cell_type": "code",
   "execution_count": 5,
   "outputs": [
    {
     "name": "stdout",
     "output_type": "stream",
     "text": [
      "<class 'pandas.core.frame.DataFrame'>\n",
      "RangeIndex: 4943 entries, 0 to 4942\n",
      "Data columns (total 26 columns):\n",
      " #   Column                 Non-Null Count  Dtype  \n",
      "---  ------                 --------------  -----  \n",
      " 0   order_id_new           4943 non-null   int64  \n",
      " 1   order_try_id_new       4943 non-null   int64  \n",
      " 2   calc_created           4943 non-null   object \n",
      " 3   metered_price          4923 non-null   float64\n",
      " 4   upfront_price          3409 non-null   float64\n",
      " 5   distance               4943 non-null   int64  \n",
      " 6   duration               4943 non-null   int64  \n",
      " 7   gps_confidence         4943 non-null   int64  \n",
      " 8   entered_by             4943 non-null   object \n",
      " 9   b_state                4943 non-null   object \n",
      " 10  dest_change_number     4943 non-null   int64  \n",
      " 11  prediction_price_type  4923 non-null   object \n",
      " 12  predicted_distance     4923 non-null   float64\n",
      " 13  predicted_duration     4923 non-null   float64\n",
      " 14  change_reason_pricing  298 non-null    object \n",
      " 15  ticket_id_new          4943 non-null   int64  \n",
      " 16  device_token           0 non-null      float64\n",
      " 17  rider_app_version      4927 non-null   object \n",
      " 18  order_state            4943 non-null   object \n",
      " 19  order_try_state        4943 non-null   object \n",
      " 20  driver_app_version     4943 non-null   object \n",
      " 21  driver_device_uid_new  4943 non-null   int64  \n",
      " 22  device_name            4943 non-null   object \n",
      " 23  eu_indicator           4943 non-null   int64  \n",
      " 24  overpaid_ride_ticket   4943 non-null   int64  \n",
      " 25  fraud_score            2184 non-null   float64\n",
      "dtypes: float64(6), int64(10), object(10)\n",
      "memory usage: 1004.2+ KB\n"
     ]
    }
   ],
   "source": [
    "df.info()"
   ],
   "metadata": {
    "collapsed": false,
    "ExecuteTime": {
     "end_time": "2023-05-20T21:26:46.008798100Z",
     "start_time": "2023-05-20T21:26:45.931321400Z"
    }
   }
  },
  {
   "cell_type": "code",
   "execution_count": 6,
   "outputs": [],
   "source": [
    "# get column names\n",
    "cols = df.columns"
   ],
   "metadata": {
    "collapsed": false,
    "ExecuteTime": {
     "end_time": "2023-05-20T21:27:37.623742Z",
     "start_time": "2023-05-20T21:27:37.592265800Z"
    }
   }
  }
 ],
 "metadata": {
  "kernelspec": {
   "display_name": "Python 3",
   "language": "python",
   "name": "python3"
  },
  "language_info": {
   "codemirror_mode": {
    "name": "ipython",
    "version": 2
   },
   "file_extension": ".py",
   "mimetype": "text/x-python",
   "name": "python",
   "nbconvert_exporter": "python",
   "pygments_lexer": "ipython2",
   "version": "2.7.6"
  }
 },
 "nbformat": 4,
 "nbformat_minor": 0
}
